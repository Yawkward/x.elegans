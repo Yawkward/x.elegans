{
 "cells": [
  {
   "cell_type": "code",
   "execution_count": 3,
   "metadata": {},
   "outputs": [],
   "source": [
    "# use kernel py3-6\n",
    "import goatools\n",
    "import re\n",
    "import json"
   ]
  },
  {
   "cell_type": "markdown",
   "metadata": {},
   "source": [
    "# Function to match non-zero features in GFF file"
   ]
  },
  {
   "cell_type": "code",
   "execution_count": 5,
   "metadata": {},
   "outputs": [],
   "source": [
    "def matchgff(feature, gff_file='/home/t44p/PW_rawdata/Transciptome_GenomeAnnotation/Xele_annotated2_gff_export2.gff'):\n",
    "    \"\"\"\n",
    "    Searches a GFF (General Feature Format) file for specific features and returns lines where these features are found.\n",
    "\n",
    "    Parameters:\n",
    "    ----------\n",
    "    feature : list or iterable\n",
    "        An iterable of strings representing the features to search for in the GFF file.\n",
    "    \n",
    "    gff_file : str, optional\n",
    "        The file path to the GFF file. Defaults to '/home/t44p/PW_rawdata/Transciptome_GenomeAnnotation/Xele_annotated2_gff_export2.gff'.\n",
    "\n",
    "    Returns:\n",
    "    -------\n",
    "    dict\n",
    "        A dictionary where keys are the features and values are lists of lines (as strings) from the GFF file where these features are found.\n",
    "        Each line represents an entry in the GFF file that matches the feature.\n",
    "\n",
    "    Example:\n",
    "    --------\n",
    "    #>>> features = ['gene1', 'gene2']\n",
    "    #>>> matchgff(features)\n",
    "    {'gene1': ['line content from GFF file'], 'gene2': ['line content from GFF file']}\n",
    "\n",
    "    Notes:\n",
    "    -----\n",
    "    The function uses regular expressions for precise matching of features. It expects the feature followed by a tab character in the GFF file.\n",
    "    \"\"\"\n",
    "    with open(gff_file, 'r') as file:\n",
    "        lines_where_feat_found = {}\n",
    "        for feat in feature:\n",
    "            file.seek(0)  # Reset file pointer to the beginning for each feature\n",
    "            lines_where_feat_found[feat] = []\n",
    "            pattern = re.compile(re.escape(feat) + r'\\t')  # Compile a regex pattern for the exact match followed by a tab\n",
    "            for line in file:\n",
    "                if pattern.search(line):\n",
    "                    lines_where_feat_found[feat].append(line.strip())  # Store the line (as a string) if feature is found\n",
    "    return lines_where_feat_found"
   ]
  },
  {
   "cell_type": "markdown",
   "metadata": {},
   "source": [
    "## Match Non-Zero features for Sucrose Model in GFF"
   ]
  },
  {
   "cell_type": "code",
   "execution_count": 11,
   "metadata": {},
   "outputs": [],
   "source": [
    "with open(\"./models/lasso_cvsucrose_scores.json\", 'r') as file:\n",
    "    lasso_cvsucrose_scores = json.load(file)\n",
    "lasso_sucrose_feat_matched = matchgff(lasso_cvsucrose_scores['non_zero_features'])\n",
    "with open(\"./models/lasso_sucrose_feat_matched.txt\", 'w') as file:\n",
    "    #file.write(str(lasso_sucrose_feat_matched))\n",
    "    for ele in lasso_sucrose_feat_matched:\n",
    "        #file.write(ele)\n",
    "        #file.write(\"\\n\")\n",
    "\n",
    "        for lel in lasso_sucrose_feat_matched[ele]:\n",
    "            file.write(lel)\n",
    "            file.write(\"\\n\")\n",
    "        file.write(\"\\n\")\n"
   ]
  },
  {
   "cell_type": "markdown",
   "metadata": {},
   "source": [
    "# Match Non-Zero features for Glucose Model in GFF"
   ]
  },
  {
   "cell_type": "code",
   "execution_count": 12,
   "metadata": {},
   "outputs": [],
   "source": [
    "with open(\"./models/lasso_cvglucose_scores.json\", 'r') as file:\n",
    "    lasso_cvglucose_scores = json.load(file)\n",
    "\n",
    "lasso_glucose_feat_matched = matchgff(lasso_cvglucose_scores['non_zero_features'])\n",
    "with open(\"./models/lasso_glucose_feat_matched.txt\", 'w') as file:\n",
    "    #file.write(str(lasso_sucrose_feat_matched))\n",
    "    for ele in lasso_glucose_feat_matched:\n",
    "        #file.write(ele)\n",
    "        file.write(\"\\n\")\n",
    "\n",
    "        for lel in lasso_glucose_feat_matched[ele]:\n",
    "            file.write(lel)\n",
    "            file.write(\"\\n\")\n",
    "        file.write(\"\\n\")\n"
   ]
  },
  {
   "cell_type": "markdown",
   "metadata": {},
   "source": [
    "# Match Non-Zero features for Citric Acid Model in GFF"
   ]
  },
  {
   "cell_type": "code",
   "execution_count": 13,
   "metadata": {},
   "outputs": [],
   "source": [
    "with open(\"./models/lasso_cvcitricAcid_scores.json\", 'r') as file:\n",
    "    lasso_cvcitricAcid_scores = json.load(file)\n",
    "\n",
    "lasso_citricAcid_feat_matched = matchgff(lasso_cvcitricAcid_scores['non_zero_features'])\n",
    "with open(\"./models/lasso_citricAcid_feat_matched.txt\", 'w') as file:\n",
    "    for ele in lasso_citricAcid_feat_matched:\n",
    "        #file.write(ele)\n",
    "        file.write(\"\\n\")\n",
    "\n",
    "        for lel in lasso_citricAcid_feat_matched[ele]:\n",
    "            file.write(lel)\n",
    "            file.write(\"\\n\")\n",
    "        file.write(\"\\n\")\n"
   ]
  },
  {
   "cell_type": "markdown",
   "metadata": {},
   "source": [
    "# GOATools to extract GO Terms"
   ]
  },
  {
   "cell_type": "markdown",
   "metadata": {},
   "source": [
    "To translate the Gene Ontology (GO) IDs into their respective terms for your given gene entries, you'll need to follow these steps:\n",
    "\n",
    "1. **Extract the GO IDs**: From your provided entries, you'll need to parse out the GO IDs. In the second entry, these are listed in the `Ontology_id` attribute.\n",
    "\n",
    "2. **Load GO Terms**: Use GOAtools or another resource to load the complete set of GO terms. This usually involves downloading the GO ontology file (in OBO format) from the Gene Ontology website.\n",
    "\n",
    "3. **Map GO IDs to Terms**: Once you have the GO IDs and the GO ontology loaded, you can map the IDs to their respective terms (including the term name and possibly the term definition).\n",
    "\n",
    "Here's an example of how you might code this in Python using GOAtools:\n",
    "\n",
    "### Step 1: Extracting GO IDs\n",
    "\n",
    "```python\n",
    "import re\n",
    "\n",
    "# Sample GFF entries\n",
    "entries = [\n",
    "    \"Xele.ptg000045l.82\\tBlast2GO\\tCDS\\t1\\t107\\t.\\t.\\t.\\tID=Xele.ptg000045l.82_1;Description=UniRef90_UPI0018AE80C6uncharacterized protein LOC120271497 n=1 Tax=Dioscorea cayennensis subsp. rotundata TaxID=55577 RepID=UPI0018AE80C6;Gene=CEY00_Acc22721;Gene=CB5_LOCUS31267\",\n",
    "    \"Xele.ptg000011l.21\\tBlast2GO\\tCDS\\t1\\t511\\t.\\t.\\t.\\t\\\"ID=Xele.ptg000011l.21_1;Description=RecName: Full=AFG1-like ATPase; AltName: Full=Lactation elevated protein 1;Gene=AFG1;Gene=SPBC115.02c;Gene=P46441;Gene=lace1b;Gene=AFG1L;Gene=Afg1l;Ontology_id=GO:0031966,GO:0005515,GO:0006123,GO:0035694\\\"\"\n",
    "]\n",
    "\n",
    "# Extract GO IDs\n",
    "go_ids = set()\n",
    "for entry in entries:\n",
    "    match = re.search(r\"Ontology_id=([GO:\\d,]+)\", entry)\n",
    "    if match:\n",
    "        ids = match.group(1).split(',')\n",
    "        go_ids.update(ids)\n",
    "\n",
    "print(\"Extracted GO IDs:\", go_ids)\n",
    "```\n",
    "\n",
    "### Step 2 & 3: Loading GO Terms and Mapping\n",
    "\n",
    "```python\n",
    "from goatools import obo_parser\n",
    "\n",
    "# Load GO ontology\n",
    "go_ontology = obo_parser.GODag(\"path/to/go-basic.obo\")\n",
    "\n",
    "# Map GO IDs to terms\n",
    "for go_id in go_ids:\n",
    "    go_term = go_ontology.get(go_id)\n",
    "    if go_term:\n",
    "        print(f\"{go_id}: {go_term.name}, {go_term.namespace}\")\n",
    "```\n",
    "\n",
    "In this code:\n",
    "- We first extract the GO IDs from your GFF entries.\n",
    "- We then load the GO ontology using GOAtools (you need to download the `go-basic.obo` file from the Gene Ontology website).\n",
    "- Finally, we map each GO ID to its term name and namespace (like biological process, cellular component, or molecular function).\n",
    "\n",
    "This approach should give you a basic understanding of the functional categories associated with your genes. For more detailed analysis or interpretation, consider exploring additional GOAtools functionalities or consulting with a bioinformatician."
   ]
  }
 ],
 "metadata": {
  "kernelspec": {
   "display_name": "ida_tf",
   "language": "python",
   "name": "python3"
  },
  "language_info": {
   "codemirror_mode": {
    "name": "ipython",
    "version": 3
   },
   "file_extension": ".py",
   "mimetype": "text/x-python",
   "name": "python",
   "nbconvert_exporter": "python",
   "pygments_lexer": "ipython3",
   "version": "3.6.13"
  }
 },
 "nbformat": 4,
 "nbformat_minor": 2
}
