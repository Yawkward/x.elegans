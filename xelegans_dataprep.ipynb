{
 "cells": [
  {
   "cell_type": "markdown",
   "metadata": {},
   "source": [
    "# XEROPHYTA ELEGANS"
   ]
  },
  {
   "cell_type": "code",
   "execution_count": 1,
   "metadata": {},
   "outputs": [],
   "source": [
    "import pandas as pd\n",
    "import numpy as np\n",
    "import math as m\n",
    "import matplotlib.pyplot as plt\n",
    "import seaborn as sns\n",
    "import scipy.stats as stats"
   ]
  },
  {
   "cell_type": "code",
   "execution_count": 48,
   "metadata": {},
   "outputs": [],
   "source": [
    "tr = pd.read_csv(\"/home/t44p/PW_rawdata/Transciptome_GenomeAnnotation/Normalised_counts_table.csv\", sep=\",\")\n",
    "lcms = pd.read_csv(\"/home/t44p/PW_rawdata/LC-MS/20230908_Final peaks_imp+log2+Combat_ME.csv\", sep=\",\")\n",
    "gcms = pd.read_csv(\"/home/t44p/PW_rawdata/GC-MS/gc-ms.csv\", sep=\",\")"
   ]
  },
  {
   "cell_type": "markdown",
   "metadata": {},
   "source": [
    "## Data Prep\n"
   ]
  },
  {
   "cell_type": "code",
   "execution_count": 49,
   "metadata": {},
   "outputs": [
    {
     "name": "stdout",
     "output_type": "stream",
     "text": [
      "Index(['Unnamed: 0', 'Xe_De_R2_T00', 'Xe_De_R2_T03', 'Xe_De_R2_T06',\n",
      "       'Xe_De_R2_T09', 'Xe_De_R2_T12', 'Xe_De_R2_T15', 'Xe_De_R2_T24',\n",
      "       'Xe_De_R3_T00', 'Xe_De_R3_T03', 'Xe_De_R3_T06', 'Xe_De_R3_T09',\n",
      "       'Xe_De_R3_T12', 'Xe_De_R3_T15', 'Xe_De_R3_T24', 'Xe_De_R4_T00',\n",
      "       'Xe_De_R4_T03', 'Xe_De_R4_T06', 'Xe_De_R4_T09', 'Xe_De_R4_T12',\n",
      "       'Xe_De_R4_T15', 'Xe_De_R4_T24', 'Xe_Re_R2_T00', 'Xe_Re_R2_T01',\n",
      "       'Xe_Re_R2_T02', 'Xe_Re_R2_T04', 'Xe_Re_R2_T08', 'Xe_Re_R2_T12',\n",
      "       'Xe_Re_R2_T48', 'Xe_Re_R6_T00', 'Xe_Re_R4_T01', 'Xe_Re_R3_T02',\n",
      "       'Xe_Re_R3_T04', 'Xe_Re_R3_T08', 'Xe_Re_R3_T12', 'Xe_Re_R3_T48',\n",
      "       'Xe_Re_R7_T00', 'Xe_Re_R5_T01', 'Xe_Re_R5_T02', 'Xe_Re_R5_T04',\n",
      "       'Xe_Re_R5_T08', 'Xe_Re_R5_T12', 'Xe_Re_R5_T48'],\n",
      "      dtype='object')\n",
      "Unnamed: 0\n",
      "Xe_De_R2_T00\n",
      "Xe_De_R2_T03\n",
      "Xe_De_R2_T06\n",
      "Xe_De_R2_T09\n",
      "Xe_De_R2_T12\n",
      "Xe_De_R2_T24\n",
      "Xe_De_R3_T00\n",
      "Xe_De_R3_T03\n",
      "Xe_De_R3_T06\n",
      "Xe_De_R3_T09\n",
      "Xe_De_R3_T12\n",
      "Xe_De_R3_T15\n",
      "Xe_De_R3_T24\n",
      "Xe_De_R4_T00\n",
      "Xe_De_R4_T03\n",
      "Xe_De_R4_T06\n",
      "Xe_De_R4_T09\n",
      "Xe_De_R4_T12\n",
      "Xe_De_R4_T15\n",
      "Xe_De_R4_T24\n",
      "Xe_Re_R2_T00\n",
      "Xe_Re_R2_T01\n",
      "Xe_Re_R2_T02\n",
      "Xe_Re_R2_T04\n",
      "Xe_Re_R2_T08\n",
      "Xe_Re_R2_T12\n",
      "Xe_Re_R2_T48\n",
      "Xe_Re_R3_T01\n",
      "Xe_Re_R3_T02\n",
      "Xe_Re_R3_T04\n",
      "Xe_Re_R3_T08\n",
      "Xe_Re_R3_T12\n",
      "Xe_Re_R3_T48\n",
      "Xe_Re_R5_T01\n",
      "Xe_Re_R5_T02\n",
      "Xe_Re_R5_T04\n",
      "Xe_Re_R5_T08\n",
      "Xe_Re_R5_T12\n",
      "Xe_Re_R5_T48\n",
      "Xe_Re_R6_T00\n",
      "Xe_Re_R7_T00\n",
      "Xe_De_5_T00\n",
      "Xe_De_5_T03\n",
      "Xe_De_5_T06\n",
      "Xe_De_5_T09\n",
      "Xe_De_5_T12\n",
      "Xe_De_5_T15\n",
      "Xe_De_5_T24\n",
      "Xe_De_6_T12\n",
      "Xe_De_6_T15\n",
      "Xe_De_8_T00\n",
      "Xe_De_8_T03\n",
      "Xe_De_8_T06\n",
      "Xe_De_8_T15\n",
      "Xe_De_8_T24\n",
      "Xe_De_9_T00\n",
      "Xe_De_9_T03\n",
      "Xe_De_9_T06\n",
      "Xe_De_9_T09\n",
      "Xe_De_9_T12\n",
      "Xe_De_9_T15\n",
      "Xe_De_9_T24\n",
      "Xe_Re_4_T00\n",
      "Xe_Re_4_T02\n",
      "Xe_Re_4_T04\n",
      "Xe_Re_4_T08\n",
      "Xe_Re_4_T12\n",
      "Xe_Re_4_T48\n",
      "Xe_Re_5_T00\n",
      "Xe_Re_6_T00\n",
      "Xe_Re_6_T01\n",
      "Xe_Re_6_T02\n",
      "Xe_Re_6_T04\n",
      "Xe_Re_6_T08\n",
      "Xe_Re_6_T12\n",
      "Xe_Re_6_T48\n",
      "Xe_Re_7_T00\n",
      "Xe_Re_7_T01\n",
      "Xe_Re_7_T02\n",
      "Xe_Re_7_T04\n",
      "Xe_Re_7_T08\n",
      "Xe_Re_7_T12\n",
      "Xe_Re_7_T48\n",
      "Xe_Re_8_T01\n"
     ]
    }
   ],
   "source": [
    "print(tr.columns)\n",
    "#print(lcms.columns)\n",
    "#print(gcms.columns)\n",
    "\n",
    "for col in gcms.columns:\n",
    "    print(col)"
   ]
  },
  {
   "cell_type": "markdown",
   "metadata": {},
   "source": [
    "## Reconcile Transcriptome Timepoints & LC/GC-MS"
   ]
  },
  {
   "cell_type": "markdown",
   "metadata": {},
   "source": [
    "> gcms has duplicate column names \n",
    "- due to naming inconsistence: Xe_Re_6_T00 vs. Xe_Re_R6_T00, Xe_Re_7_T00 vs. Xe_Re_R7_T00\n",
    "- Xe_Re_R6_T00 count: 2\n",
    "- Xe_Re_R7_T00 count: 2"
   ]
  },
  {
   "cell_type": "code",
   "execution_count": 50,
   "metadata": {},
   "outputs": [],
   "source": [
    "# rename 1st column \"unamed\" -> \"ref\"\n",
    "tr_cols = np.array(tr.columns)\n",
    "tr_cols[0] = 'ref'\n",
    "tr.columns = tr_cols\n",
    "\n",
    "gcms_cols = np.array(gcms.columns)\n",
    "gcms_cols[0] = 'metabolite'\n",
    "gcms.columns = gcms_cols\n"
   ]
  },
  {
   "cell_type": "code",
   "execution_count": 51,
   "metadata": {},
   "outputs": [],
   "source": [
    "# find mutual columns\n",
    "tr_cols = set(tr.columns[1:])\n",
    "gmcs_cols = set(gcms.columns[1:])\n",
    "\n",
    "# find cols from transcriptome that are not in GC-MS\n",
    "tr_notin_gcms_cols = list(tr_cols.difference(gcms_cols))\n",
    "\n",
    "# find mutual column names\n",
    "mutual_cols = tr_cols.intersection(gmcs_cols) \n",
    "mutual_cols = sorted(list(mutual_cols))\n",
    "tr_mut = pd.DataFrame(tr['ref'])\n",
    "tr_mut = tr_mut.join(tr[mutual_cols])\n",
    "\n",
    "gcms_mut = pd.DataFrame(gcms['metabolite'])\n",
    "gcms_mut = gcms_mut.join(gcms[mutual_cols])\n",
    "\n",
    "#gcms_mut.to_csv('/home/t44p/PW_rawdata/tr_gc_mutual/gcms_mut.csv', index=False)\n",
    "#tr_mut.to_csv('/home/t44p/PW_rawdata/tr_gc_mutual/tr_mut.csv', index=False)\n",
    "\n"
   ]
  },
  {
   "cell_type": "code",
   "execution_count": 52,
   "metadata": {},
   "outputs": [],
   "source": [
    "\n",
    "#lcms_cols = np.array(lcms.columns)\n",
    "#lcms_cols[0] = 'metabolite'\n",
    "#lcms.columns = lcms_cols\n",
    "\n",
    "# find mutual columns\n",
    "#tr_cols = set(tr.columns[1:])\n",
    "#lmcs_cols = set(lcms.columns[1:])\n",
    "\n",
    "# find cols from transcriptome that are not in GC-MS\n",
    "#tr_notin_lcms_cols = list(tr_cols.difference(lcms_cols))\n",
    "\n",
    "# find mutual column names\n",
    "#lcms_mutual_cols = tr_cols.intersection(lmcs_cols) \n",
    "#lcms_mutual_cols = sorted(list(lcms_mutual_cols))\n",
    "#tr_mut = pd.DataFrame(tr['ref'])\n",
    "#tr_mut = tr_mut.join(tr[lcms_mutual_cols])\n",
    "\n",
    "# I WILL USE GCMS & TRANSCRIPTOME INTERSECTION AS REFERENCE FOR LCMS\n",
    "# LCMS DOES SHARE ON MORE COLUMN WITH TRANSCRIPTOME DATA THAN GCMS DOES\n",
    "# Xe_De_R2_T15\n",
    "\n",
    "lcms_mut = pd.DataFrame(lcms['Metabolites'])\n",
    "lcms_mut.columns = ['metabolite'] + lcms_mut.columns[1:].tolist()\n",
    "lcms_mut = lcms_mut.join(lcms[mutual_cols])\n",
    "\n",
    "\n",
    "# FLOATS ARE RECOGNIZE AS STRINGS, CONVERT TO STRING TO FLOAT\n",
    "for col in lcms_mut.columns[1:]:\n",
    "    lcms_mut[col] = pd.to_numeric(lcms_mut[col], errors='coerce')\n",
    "lcms_mut.to_csv('/home/t44p/PW_rawdata/tr_gc_mutual/lcms_mut.csv', index=False)\n",
    "\n"
   ]
  },
  {
   "cell_type": "code",
   "execution_count": 46,
   "metadata": {},
   "outputs": [
    {
     "data": {
      "text/plain": [
       "{'Xe_De_R2_T00',\n",
       " 'Xe_De_R2_T03',\n",
       " 'Xe_De_R2_T06',\n",
       " 'Xe_De_R2_T09',\n",
       " 'Xe_De_R2_T12',\n",
       " 'Xe_De_R2_T24',\n",
       " 'Xe_De_R3_T00',\n",
       " 'Xe_De_R3_T03',\n",
       " 'Xe_De_R3_T06',\n",
       " 'Xe_De_R3_T09',\n",
       " 'Xe_De_R3_T12',\n",
       " 'Xe_De_R3_T15',\n",
       " 'Xe_De_R3_T24',\n",
       " 'Xe_De_R4_T00',\n",
       " 'Xe_De_R4_T03',\n",
       " 'Xe_De_R4_T06',\n",
       " 'Xe_De_R4_T09',\n",
       " 'Xe_De_R4_T12',\n",
       " 'Xe_De_R4_T15',\n",
       " 'Xe_De_R4_T24',\n",
       " 'Xe_Re_R2_T00',\n",
       " 'Xe_Re_R2_T01',\n",
       " 'Xe_Re_R2_T02',\n",
       " 'Xe_Re_R2_T04',\n",
       " 'Xe_Re_R2_T08',\n",
       " 'Xe_Re_R2_T12',\n",
       " 'Xe_Re_R2_T48',\n",
       " 'Xe_Re_R3_T02',\n",
       " 'Xe_Re_R3_T04',\n",
       " 'Xe_Re_R3_T08',\n",
       " 'Xe_Re_R3_T12',\n",
       " 'Xe_Re_R3_T48',\n",
       " 'Xe_Re_R5_T01',\n",
       " 'Xe_Re_R5_T02',\n",
       " 'Xe_Re_R5_T04',\n",
       " 'Xe_Re_R5_T08',\n",
       " 'Xe_Re_R5_T12',\n",
       " 'Xe_Re_R5_T48',\n",
       " 'Xe_Re_R6_T00',\n",
       " 'Xe_Re_R7_T00',\n",
       " 'metabolite'}"
      ]
     },
     "execution_count": 46,
     "metadata": {},
     "output_type": "execute_result"
    }
   ],
   "source": [
    "set(lcms_mut.columns).intersection(set(gcms_mut.columns))"
   ]
  },
  {
   "cell_type": "markdown",
   "metadata": {},
   "source": [
    "## GC-MS data:"
   ]
  },
  {
   "cell_type": "markdown",
   "metadata": {},
   "source": [
    "### Account for inconsistent column names \n",
    "### Xe_De_6_T12 to Xe_De_R6_T12\"\n",
    "> will produce duplicates for following\n",
    "- Xe_Re_6_T00 vs. Xe_Re_R6_T00, Xe_Re_7_T00 vs. Xe_Re_R7_T00"
   ]
  },
  {
   "cell_type": "code",
   "execution_count": 98,
   "metadata": {},
   "outputs": [
    {
     "name": "stdout",
     "output_type": "stream",
     "text": [
      "unprocessed >>>/n ['Xe_De_5_T00' 'Xe_De_5_T03' 'Xe_De_5_T06' 'Xe_De_5_T09' 'Xe_De_5_T12'\n",
      " 'Xe_De_5_T15' 'Xe_De_5_T24' 'Xe_De_6_T12' 'Xe_De_6_T15' 'Xe_De_8_T00'\n",
      " 'Xe_De_8_T03' 'Xe_De_8_T06' 'Xe_De_8_T15' 'Xe_De_8_T24' 'Xe_De_9_T00'\n",
      " 'Xe_De_9_T03' 'Xe_De_9_T06' 'Xe_De_9_T09' 'Xe_De_9_T12' 'Xe_De_9_T15'\n",
      " 'Xe_De_9_T24' 'Xe_Re_4_T00' 'Xe_Re_4_T02' 'Xe_Re_4_T04' 'Xe_Re_4_T08'\n",
      " 'Xe_Re_4_T12' 'Xe_Re_4_T48' 'Xe_Re_5_T00' 'Xe_Re_6_T00' 'Xe_Re_6_T01'\n",
      " 'Xe_Re_6_T02' 'Xe_Re_6_T04' 'Xe_Re_6_T08' 'Xe_Re_6_T12' 'Xe_Re_6_T48'\n",
      " 'Xe_Re_7_T00' 'Xe_Re_7_T01' 'Xe_Re_7_T02' 'Xe_Re_7_T04' 'Xe_Re_7_T08'\n",
      " 'Xe_Re_7_T12' 'Xe_Re_7_T48' 'Xe_Re_8_T01'] length >>>  85\n",
      "procesed >>>/n ['Xe_De_R5_T00' 'Xe_De_R5_T03' 'Xe_De_R5_T06' 'Xe_De_R5_T09'\n",
      " 'Xe_De_R5_T12' 'Xe_De_R5_T15' 'Xe_De_R5_T24' 'Xe_De_R6_T12'\n",
      " 'Xe_De_R6_T15' 'Xe_De_R8_T00' 'Xe_De_R8_T03' 'Xe_De_R8_T06'\n",
      " 'Xe_De_R8_T15' 'Xe_De_R8_T24' 'Xe_De_R9_T00' 'Xe_De_R9_T03'\n",
      " 'Xe_De_R9_T06' 'Xe_De_R9_T09' 'Xe_De_R9_T12' 'Xe_De_R9_T15'\n",
      " 'Xe_De_R9_T24' 'Xe_Re_R4_T00' 'Xe_Re_R4_T02' 'Xe_Re_R4_T04'\n",
      " 'Xe_Re_R4_T08' 'Xe_Re_R4_T12' 'Xe_Re_R4_T48' 'Xe_Re_R5_T00'\n",
      " 'Xe_Re_R6_T00' 'Xe_Re_R6_T01' 'Xe_Re_R6_T02' 'Xe_Re_R6_T04'\n",
      " 'Xe_Re_R6_T08' 'Xe_Re_R6_T12' 'Xe_Re_R6_T48' 'Xe_Re_R7_T00'\n",
      " 'Xe_Re_R7_T01' 'Xe_Re_R7_T02' 'Xe_Re_R7_T04' 'Xe_Re_R7_T08'\n",
      " 'Xe_Re_R7_T12' 'Xe_Re_R7_T48' 'Xe_Re_R8_T01'] length >>>  85\n"
     ]
    }
   ],
   "source": [
    "import re\n",
    "\n",
    "def replace_third_column(s):\n",
    "    # regex matches an underscore, a single digit, and another underscore\n",
    "    pattern = r'(_\\d_)'\n",
    "    # This function replaces the matched pattern with _R and the matched digit\n",
    "    replacer = lambda x: '_R' + x.group(1)[1] + \"_\"\n",
    "    # Replace the third occurrence of the pattern\n",
    "    return re.sub(pattern, replacer, s, count=3)\n",
    "\n",
    "# Example usage\n",
    "#s = \"Xe_De_6_T12\"\n",
    "#modified_s = replace_third_column(s)\n",
    "#print(modified_s)\n",
    "gcms_col_array = np.array(gcms.columns)\n",
    "gcms_col_array = np.array([replace_third_column(col) for col in gcms_col_array])\n",
    "uneq=[a != b for a, b in zip(gcms_col_array, gcms.columns)] # check where gcms.columns and gcms_col_arry differ\n",
    "# compare the orignal columns names with the processed columns\n",
    "print(\"unprocessed >>>/n\", np.array(gcms.columns[uneq]), \"length >>> \", len(gcms.columns))\n",
    "print(\"procesed >>>/n\", gcms_col_array[uneq], \"length >>> \", len(gcms_col_array))"
   ]
  },
  {
   "cell_type": "code",
   "execution_count": 99,
   "metadata": {},
   "outputs": [],
   "source": [
    "gcms_col_array[0] = \"metabolite\"\n",
    "gcms.columns = gcms_col_array\n",
    "#gcms.to_csv('/home/t44p/PW_rawdata/GC-MS/gc-ms_prep.csv', index=False)"
   ]
  },
  {
   "cell_type": "markdown",
   "metadata": {},
   "source": [
    "### sort columns by replicates"
   ]
  },
  {
   "cell_type": "code",
   "execution_count": 100,
   "metadata": {},
   "outputs": [
    {
     "name": "stdout",
     "output_type": "stream",
     "text": [
      "metabolite\n",
      "Xe_De_R2_T00\n",
      "Xe_De_R2_T03\n",
      "Xe_De_R2_T06\n",
      "Xe_De_R2_T09\n",
      "Xe_De_R2_T12\n",
      "Xe_De_R2_T24\n",
      "Xe_Re_R2_T00\n",
      "Xe_Re_R2_T01\n",
      "Xe_Re_R2_T02\n",
      "Xe_Re_R2_T04\n",
      "Xe_Re_R2_T08\n",
      "Xe_Re_R2_T12\n",
      "Xe_Re_R2_T48\n",
      "Xe_De_R3_T00\n",
      "Xe_De_R3_T03\n",
      "Xe_De_R3_T06\n",
      "Xe_De_R3_T09\n",
      "Xe_De_R3_T12\n",
      "Xe_De_R3_T15\n",
      "Xe_De_R3_T24\n",
      "Xe_Re_R3_T01\n",
      "Xe_Re_R3_T02\n",
      "Xe_Re_R3_T04\n",
      "Xe_Re_R3_T08\n",
      "Xe_Re_R3_T12\n",
      "Xe_Re_R3_T48\n",
      "Xe_De_R4_T00\n",
      "Xe_De_R4_T03\n",
      "Xe_De_R4_T06\n",
      "Xe_De_R4_T09\n",
      "Xe_De_R4_T12\n",
      "Xe_De_R4_T15\n",
      "Xe_De_R4_T24\n",
      "Xe_Re_R4_T00\n",
      "Xe_Re_R4_T02\n",
      "Xe_Re_R4_T04\n",
      "Xe_Re_R4_T08\n",
      "Xe_Re_R4_T12\n",
      "Xe_Re_R4_T48\n",
      "Xe_Re_R5_T01\n",
      "Xe_Re_R5_T02\n",
      "Xe_Re_R5_T04\n",
      "Xe_Re_R5_T08\n",
      "Xe_Re_R5_T12\n",
      "Xe_Re_R5_T48\n",
      "Xe_De_R5_T00\n",
      "Xe_De_R5_T03\n",
      "Xe_De_R5_T06\n",
      "Xe_De_R5_T09\n",
      "Xe_De_R5_T12\n",
      "Xe_De_R5_T15\n",
      "Xe_De_R5_T24\n",
      "Xe_Re_R5_T00\n",
      "Xe_Re_R6_T00\n",
      "Xe_De_R6_T12\n",
      "Xe_De_R6_T15\n",
      "Xe_Re_R6_T00\n",
      "Xe_Re_R6_T01\n",
      "Xe_Re_R6_T02\n",
      "Xe_Re_R6_T04\n",
      "Xe_Re_R6_T08\n",
      "Xe_Re_R6_T12\n",
      "Xe_Re_R6_T48\n",
      "Xe_Re_R7_T00\n",
      "Xe_Re_R7_T00\n",
      "Xe_Re_R7_T01\n",
      "Xe_Re_R7_T02\n",
      "Xe_Re_R7_T04\n",
      "Xe_Re_R7_T08\n",
      "Xe_Re_R7_T12\n",
      "Xe_Re_R7_T48\n",
      "Xe_De_R8_T00\n",
      "Xe_De_R8_T03\n",
      "Xe_De_R8_T06\n",
      "Xe_De_R8_T15\n",
      "Xe_De_R8_T24\n",
      "Xe_Re_R8_T01\n",
      "Xe_De_R9_T00\n",
      "Xe_De_R9_T03\n",
      "Xe_De_R9_T06\n",
      "Xe_De_R9_T09\n",
      "Xe_De_R9_T12\n",
      "Xe_De_R9_T15\n",
      "Xe_De_R9_T24\n"
     ]
    }
   ],
   "source": [
    "def extract_r_number(column_name):\n",
    "    \"\"\" Extracts the 'R[0-9]' part from the column name. \"\"\"\n",
    "    match = re.search(r'R\\d+', column_name)\n",
    "    return match.group(0) if match else '' \n",
    "# group() allows you to extract the specific portions of the string that matched the pattern.\n",
    "\n",
    "gcms_col_array_sorted = sorted(gcms_col_array, key=extract_r_number)\n",
    "for col in gcms_col_array_sorted:\n",
    "    print(col)"
   ]
  },
  {
   "cell_type": "markdown",
   "metadata": {},
   "source": [
    "## LC-MS data:\n",
    "### Account for inconsistentce column names \n",
    "### Xe_De_6_T12 to Xe_De_R6_T12\"\n",
    "\n"
   ]
  },
  {
   "cell_type": "code",
   "execution_count": 101,
   "metadata": {},
   "outputs": [
    {
     "data": {
      "text/plain": [
       "Index(['Metabolites', 'Xe_De_R2_T00', 'Xe_De_R3_T00', 'Xe_De_R4_T00',\n",
       "       'Xe_De_5_T00', 'Xe_De_8_T00', 'Xe_De_9_T00', 'Xe_De_R2_T03',\n",
       "       'Xe_De_R3_T03', 'Xe_De_R4_T03', 'Xe_De_5_T03', 'Xe_De_8_T03',\n",
       "       'Xe_De_9_T03', 'Xe_De_R2_T06', 'Xe_De_R3_T06', 'Xe_De_R4_T06',\n",
       "       'Xe_De_5_T06', 'Xe_De_8_T06', 'Xe_De_9_T06', 'Xe_De_R2_T09',\n",
       "       'Xe_De_R3_T09', 'Xe_De_R4_T09', 'Xe_De_5_T09', 'Xe_De_8_T09',\n",
       "       'Xe_De_9_T09', 'Xe_De_R2_T12', 'Xe_De_R3_T12', 'Xe_De_R4_T12',\n",
       "       'Xe_De_5_T12', 'Xe_De_6_T12', 'Xe_De_9_T12', 'Xe_De_R2_T15',\n",
       "       'Xe_De_R3_T15', 'Xe_De_R4_T15', 'Xe_De_5_T15', 'Xe_De_6_T15',\n",
       "       'Xe_De_8_T15', 'Xe_De_9_T15', 'Xe_De_R2_T24', 'Xe_De_R3_T24',\n",
       "       'Xe_De_R4_T24', 'Xe_De_5_T24', 'Xe_De_8_T24', 'Xe_De_9_T24',\n",
       "       'Xe_Re_R2_T00', 'Xe_Re_4_T00', 'Xe_Re_5_T00', 'Xe_Re_R6_T00',\n",
       "       'Xe_Re_6_T00', 'Xe_Re_7_T00', 'Xe_Re_R7_T00', 'Xe_Re_R2_T01',\n",
       "       'Xe_Re_R3_T01', 'Xe_Re_R5_T01', 'Xe_Re_6_T01', 'Xe_Re_7_T01',\n",
       "       'Xe_Re_8_T01', 'Xe_Re_R2_T02', 'Xe_Re_R3_T02', 'Xe_Re_4_T02',\n",
       "       'Xe_Re_R5_T02', 'Xe_Re_6_T02', 'Xe_Re_7_T02', 'Xe_Re_R2_T04',\n",
       "       'Xe_Re_R3_T04', 'Xe_Re_4_T04', 'Xe_Re_R5_T04', 'Xe_Re_6_T04',\n",
       "       'Xe_Re_7_T04', 'Xe_Re_R2_T08', 'Xe_Re_R3_T08', 'Xe_Re_4_T08',\n",
       "       'Xe_Re_R5_T08', 'Xe_Re_6_T08', 'Xe_Re_7_T08', 'Xe_Re_R2_T12',\n",
       "       'Xe_Re_R3_T12', 'Xe_Re_4_T12', 'Xe_Re_R5_T12', 'Xe_Re_6_T12',\n",
       "       'Xe_Re_7_T12', 'Xe_Re_R2_T48', 'Xe_Re_R3_T48', 'Xe_Re_4_T48',\n",
       "       'Xe_Re_R5_T48', 'Xe_Re_6_T48', 'Xe_Re_7_T48'],\n",
       "      dtype='object')"
      ]
     },
     "execution_count": 101,
     "metadata": {},
     "output_type": "execute_result"
    }
   ],
   "source": [
    "lcms.columns"
   ]
  },
  {
   "cell_type": "code",
   "execution_count": 102,
   "metadata": {},
   "outputs": [
    {
     "name": "stdout",
     "output_type": "stream",
     "text": [
      "unprocessed >>>/n ['Xe_De_5_T00' 'Xe_De_8_T00' 'Xe_De_9_T00' 'Xe_De_5_T03' 'Xe_De_8_T03'\n",
      " 'Xe_De_9_T03' 'Xe_De_5_T06' 'Xe_De_8_T06' 'Xe_De_9_T06' 'Xe_De_5_T09'\n",
      " 'Xe_De_8_T09' 'Xe_De_9_T09' 'Xe_De_5_T12' 'Xe_De_6_T12' 'Xe_De_9_T12'\n",
      " 'Xe_De_5_T15' 'Xe_De_6_T15' 'Xe_De_8_T15' 'Xe_De_9_T15' 'Xe_De_5_T24'\n",
      " 'Xe_De_8_T24' 'Xe_De_9_T24' 'Xe_Re_4_T00' 'Xe_Re_5_T00' 'Xe_Re_6_T00'\n",
      " 'Xe_Re_7_T00' 'Xe_Re_6_T01' 'Xe_Re_7_T01' 'Xe_Re_8_T01' 'Xe_Re_4_T02'\n",
      " 'Xe_Re_6_T02' 'Xe_Re_7_T02' 'Xe_Re_4_T04' 'Xe_Re_6_T04' 'Xe_Re_7_T04'\n",
      " 'Xe_Re_4_T08' 'Xe_Re_6_T08' 'Xe_Re_7_T08' 'Xe_Re_4_T12' 'Xe_Re_6_T12'\n",
      " 'Xe_Re_7_T12' 'Xe_Re_4_T48' 'Xe_Re_6_T48' 'Xe_Re_7_T48'] length >>>  87\n",
      "procesed >>>/n ['Xe_De_R5_T00' 'Xe_De_R8_T00' 'Xe_De_R9_T00' 'Xe_De_R5_T03'\n",
      " 'Xe_De_R8_T03' 'Xe_De_R9_T03' 'Xe_De_R5_T06' 'Xe_De_R8_T06'\n",
      " 'Xe_De_R9_T06' 'Xe_De_R5_T09' 'Xe_De_R8_T09' 'Xe_De_R9_T09'\n",
      " 'Xe_De_R5_T12' 'Xe_De_R6_T12' 'Xe_De_R9_T12' 'Xe_De_R5_T15'\n",
      " 'Xe_De_R6_T15' 'Xe_De_R8_T15' 'Xe_De_R9_T15' 'Xe_De_R5_T24'\n",
      " 'Xe_De_R8_T24' 'Xe_De_R9_T24' 'Xe_Re_R4_T00' 'Xe_Re_R5_T00'\n",
      " 'Xe_Re_R6_T00' 'Xe_Re_R7_T00' 'Xe_Re_R6_T01' 'Xe_Re_R7_T01'\n",
      " 'Xe_Re_R8_T01' 'Xe_Re_R4_T02' 'Xe_Re_R6_T02' 'Xe_Re_R7_T02'\n",
      " 'Xe_Re_R4_T04' 'Xe_Re_R6_T04' 'Xe_Re_R7_T04' 'Xe_Re_R4_T08'\n",
      " 'Xe_Re_R6_T08' 'Xe_Re_R7_T08' 'Xe_Re_R4_T12' 'Xe_Re_R6_T12'\n",
      " 'Xe_Re_R7_T12' 'Xe_Re_R4_T48' 'Xe_Re_R6_T48' 'Xe_Re_R7_T48'] length >>>  87\n"
     ]
    }
   ],
   "source": [
    "lcms_col_array = np.array(lcms.columns)\n",
    "lcms_col_array = np.array([replace_third_column(col) for col in lcms_col_array])\n",
    "uneq=[a != b for a, b in zip(lcms_col_array, lcms.columns)] # check where gcms.columns and gcms_col_arry differ\n",
    "# compare the orignal columns names with the processed columns\n",
    "print(\"unprocessed >>>/n\", np.array(lcms.columns[uneq]), \"length >>> \", len(lcms.columns))\n",
    "print(\"procesed >>>/n\", lcms_col_array[uneq], \"length >>> \", len(lcms_col_array))\n",
    "lcms_col_array[0] = \"metabolite\"\n",
    "lcms.columns = lcms_col_array\n",
    "#lcms.to_csv('/home/t44p/PW_rawdata/LC-MS/lc-ms_prep.csv', index=False)\n"
   ]
  },
  {
   "cell_type": "markdown",
   "metadata": {},
   "source": [
    "# Add sample column to the tr_mut_transposed.csv\n",
    "done very late. For WGCNA\n"
   ]
  },
  {
   "cell_type": "code",
   "execution_count": 15,
   "metadata": {},
   "outputs": [],
   "source": [
    "tr_mut_transposed = pd.read_csv(\"/home/t44p/PW_rawdata/tr_gc_mutual/tr_mut_transposed.csv\", sep=\",\")\n",
    "tr_mut = pd.read_csv(\"/home/t44p/PW_rawdata/tr_gc_mutual/tr_mut.csv\", sep=\",\")"
   ]
  },
  {
   "cell_type": "code",
   "execution_count": 16,
   "metadata": {},
   "outputs": [
    {
     "data": {
      "text/plain": [
       "Index(['ref', 'Xe_De_R2_T00', 'Xe_De_R2_T03', 'Xe_De_R2_T06', 'Xe_De_R2_T09',\n",
       "       'Xe_De_R2_T12', 'Xe_De_R2_T24', 'Xe_De_R3_T00', 'Xe_De_R3_T03',\n",
       "       'Xe_De_R3_T06', 'Xe_De_R3_T09', 'Xe_De_R3_T12', 'Xe_De_R3_T15',\n",
       "       'Xe_De_R3_T24', 'Xe_De_R4_T00', 'Xe_De_R4_T03', 'Xe_De_R4_T06',\n",
       "       'Xe_De_R4_T09', 'Xe_De_R4_T12', 'Xe_De_R4_T15', 'Xe_De_R4_T24',\n",
       "       'Xe_Re_R2_T00', 'Xe_Re_R2_T01', 'Xe_Re_R2_T02', 'Xe_Re_R2_T04',\n",
       "       'Xe_Re_R2_T08', 'Xe_Re_R2_T12', 'Xe_Re_R2_T48', 'Xe_Re_R3_T02',\n",
       "       'Xe_Re_R3_T04', 'Xe_Re_R3_T08', 'Xe_Re_R3_T12', 'Xe_Re_R3_T48',\n",
       "       'Xe_Re_R5_T01', 'Xe_Re_R5_T02', 'Xe_Re_R5_T04', 'Xe_Re_R5_T08',\n",
       "       'Xe_Re_R5_T12', 'Xe_Re_R5_T48', 'Xe_Re_R6_T00', 'Xe_Re_R7_T00'],\n",
       "      dtype='object')"
      ]
     },
     "execution_count": 16,
     "metadata": {},
     "output_type": "execute_result"
    }
   ],
   "source": [
    "tr_mut.columns[:]"
   ]
  },
  {
   "cell_type": "code",
   "execution_count": 17,
   "metadata": {},
   "outputs": [
    {
     "data": {
      "text/plain": [
       "Index(['ref', 'Xele.ptg000212l.1', 'Xele.ptg000045l.1', 'Xele.ptg000045l.2'], dtype='object')"
      ]
     },
     "execution_count": 17,
     "metadata": {},
     "output_type": "execute_result"
    }
   ],
   "source": [
    "# Extract column names from tr_mut\n",
    "sample_names = tr_mut.columns[1:].tolist()\n",
    "\n",
    "# Add the sample names as the first column in tr_mut_transposed\n",
    "tr_mut_transposed.insert(0, 'ref', sample_names)\n",
    "tr_mut_transposed.columns[0:4]"
   ]
  },
  {
   "cell_type": "code",
   "execution_count": 18,
   "metadata": {},
   "outputs": [],
   "source": [
    "# Save the modified DataFrame to a new CSV file\n",
    "#tr_mut_transposed.to_csv(\"/home/t44p/PW_rawdata/tr_gc_mutual/tr_mut_transposed_modified.csv\", index=False)"
   ]
  }
 ],
 "metadata": {
  "kernelspec": {
   "display_name": "ida_tf",
   "language": "python",
   "name": "python3"
  },
  "language_info": {
   "codemirror_mode": {
    "name": "ipython",
    "version": 3
   },
   "file_extension": ".py",
   "mimetype": "text/x-python",
   "name": "python",
   "nbconvert_exporter": "python",
   "pygments_lexer": "ipython3",
   "version": "3.10.10"
  }
 },
 "nbformat": 4,
 "nbformat_minor": 2
}
