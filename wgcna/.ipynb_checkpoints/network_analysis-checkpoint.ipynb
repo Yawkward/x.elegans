{
 "cells": [
  {
   "cell_type": "markdown",
   "metadata": {},
   "source": [
    "# Network analysis using PyWGCNA\n",
    "\n",
    "After you finding your modules, you can plot each module or all modules together as a network.\n",
    "\n",
    "This notebook shows several ways of visualizing the resultant networks.\n",
    "\n",
    "First, read in the PyWGCNA object."
   ]
  },
  {
   "cell_type": "code",
   "execution_count": 1,
   "metadata": {},
   "outputs": [
    {
     "name": "stdout",
     "output_type": "stream",
     "text": [
      "\u001b[1m\u001b[94mReading 5xFAD WGCNA done!\u001b[0m\n"
     ]
    },
    {
     "data": {
      "text/html": [
       "<div>\n",
       "<style scoped>\n",
       "    .dataframe tbody tr th:only-of-type {\n",
       "        vertical-align: middle;\n",
       "    }\n",
       "\n",
       "    .dataframe tbody tr th {\n",
       "        vertical-align: top;\n",
       "    }\n",
       "\n",
       "    .dataframe thead th {\n",
       "        text-align: right;\n",
       "    }\n",
       "</style>\n",
       "<table border=\"1\" class=\"dataframe\">\n",
       "  <thead>\n",
       "    <tr style=\"text-align: right;\">\n",
       "      <th></th>\n",
       "      <th>dynamicColors</th>\n",
       "      <th>moduleColors</th>\n",
       "      <th>moduleLabels</th>\n",
       "      <th>gene_name</th>\n",
       "      <th>gene_biotype</th>\n",
       "    </tr>\n",
       "  </thead>\n",
       "  <tbody>\n",
       "    <tr>\n",
       "      <th>ENSMUSG00000000028</th>\n",
       "      <td>darkred</td>\n",
       "      <td>darkred</td>\n",
       "      <td>4.0</td>\n",
       "      <td>Cdc45</td>\n",
       "      <td>protein_coding</td>\n",
       "    </tr>\n",
       "    <tr>\n",
       "      <th>ENSMUSG00000000049</th>\n",
       "      <td>darkred</td>\n",
       "      <td>darkred</td>\n",
       "      <td>4.0</td>\n",
       "      <td>Apoh</td>\n",
       "      <td>protein_coding</td>\n",
       "    </tr>\n",
       "    <tr>\n",
       "      <th>ENSMUSG00000000056</th>\n",
       "      <td>darkgrey</td>\n",
       "      <td>darkgrey</td>\n",
       "      <td>3.0</td>\n",
       "      <td>Narf</td>\n",
       "      <td>protein_coding</td>\n",
       "    </tr>\n",
       "    <tr>\n",
       "      <th>ENSMUSG00000000058</th>\n",
       "      <td>coral</td>\n",
       "      <td>coral</td>\n",
       "      <td>2.0</td>\n",
       "      <td>Cav2</td>\n",
       "      <td>protein_coding</td>\n",
       "    </tr>\n",
       "    <tr>\n",
       "      <th>ENSMUSG00000000078</th>\n",
       "      <td>gainsboro</td>\n",
       "      <td>gainsboro</td>\n",
       "      <td>7.0</td>\n",
       "      <td>Klf6</td>\n",
       "      <td>protein_coding</td>\n",
       "    </tr>\n",
       "  </tbody>\n",
       "</table>\n",
       "</div>"
      ],
      "text/plain": [
       "                   dynamicColors moduleColors  moduleLabels gene_name  \\\n",
       "ENSMUSG00000000028       darkred      darkred           4.0     Cdc45   \n",
       "ENSMUSG00000000049       darkred      darkred           4.0      Apoh   \n",
       "ENSMUSG00000000056      darkgrey     darkgrey           3.0      Narf   \n",
       "ENSMUSG00000000058         coral        coral           2.0      Cav2   \n",
       "ENSMUSG00000000078     gainsboro    gainsboro           7.0      Klf6   \n",
       "\n",
       "                      gene_biotype  \n",
       "ENSMUSG00000000028  protein_coding  \n",
       "ENSMUSG00000000049  protein_coding  \n",
       "ENSMUSG00000000056  protein_coding  \n",
       "ENSMUSG00000000058  protein_coding  \n",
       "ENSMUSG00000000078  protein_coding  "
      ]
     },
     "execution_count": 1,
     "metadata": {},
     "output_type": "execute_result"
    }
   ],
   "source": [
    "import PyWGCNA\n",
    "pyWGCNA_5xFAD = PyWGCNA.readWGCNA(\"5xFAD.p\")\n",
    "pyWGCNA_5xFAD.datExpr.var.head(5)"
   ]
  },
  {
   "cell_type": "markdown",
   "metadata": {},
   "source": [
    "## Module network plot\n",
    "\n",
    "You can plot each module as a network using the [`CoexpressionModulePlot()` function](https://mortazavilab.github.io/PyWGCNA/html/_modules/PyWGCNA/wgcna.html#WGCNA.CoexpressionModulePlot). This will save the plot as an html file in the output directory `figures/network` with the module name. For this example, it will save at `figures/network/black.html`.\n",
    "\n",
    "You can define the number of genes and connections you want to see and the minimum TOM value to be considered a connection or not.\n",
    "\n",
    "The HTML file is an interactive network so if you click on any nodes you can see additional information about each node (gene)."
   ]
  },
  {
   "cell_type": "code",
   "execution_count": 2,
   "metadata": {},
   "outputs": [
    {
     "name": "stdout",
     "output_type": "stream",
     "text": [
      "\u001b[93mNetwork directory does not exist!\n",
      "Creating network directory!\u001b[0m\n"
     ]
    }
   ],
   "source": [
    "pyWGCNA_5xFAD.CoexpressionModulePlot(modules=[\"coral\"], numGenes=10, numConnections=100, minTOM=0)"
   ]
  },
  {
   "cell_type": "markdown",
   "metadata": {},
   "source": [
    "If you want to display a network for more than one module and to show the connections between each module, you can simply provide a list of modules to the `CoexpressionModulePlot()` function.\n",
    "\n",
    "In this example, we're showing the network for all found modules:"
   ]
  },
  {
   "cell_type": "code",
   "execution_count": 3,
   "metadata": {},
   "outputs": [],
   "source": [
    "modules = pyWGCNA_5xFAD.datExpr.var.moduleColors.unique().tolist()\n",
    "pyWGCNA_5xFAD.CoexpressionModulePlot(modules=modules, numGenes=100, numConnections=1000, minTOM=0, file_name=\"all\")"
   ]
  },
  {
   "cell_type": "markdown",
   "metadata": {},
   "source": [
    "You can also filter genes based on the information you have in `datExpr.var`. Imagine we only want to see protein coding genes in the darkgray module."
   ]
  },
  {
   "cell_type": "code",
   "execution_count": 3,
   "metadata": {},
   "outputs": [],
   "source": [
    "filters = {\"gene_biotype\": [\"protein_coding\"]}\n",
    "pyWGCNA_5xFAD.CoexpressionModulePlot(modules=[\"coral\"], filters=filters, file_name=\"darkgray_protein_coding\")"
   ]
  }
 ],
 "metadata": {
  "kernelspec": {
   "display_name": "Python 3 (ipykernel)",
   "language": "python",
   "name": "python3"
  },
  "language_info": {
   "codemirror_mode": {
    "name": "ipython",
    "version": 3
   },
   "file_extension": ".py",
   "mimetype": "text/x-python",
   "name": "python",
   "nbconvert_exporter": "python",
   "pygments_lexer": "ipython3",
   "version": "3.10.4"
  }
 },
 "nbformat": 4,
 "nbformat_minor": 4
}
