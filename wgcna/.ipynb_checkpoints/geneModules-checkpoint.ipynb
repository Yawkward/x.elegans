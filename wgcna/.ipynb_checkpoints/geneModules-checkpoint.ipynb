{
 "cells": [
  {
   "cell_type": "markdown",
   "id": "a900bc54-dc44-4027-98ce-950c75d1815b",
   "metadata": {},
   "source": [
    "## Gene Modules, API Doc\n",
    "https://mortazavilab.github.io/PyWGCNA/html/api.html?highlight=wgcna#PyWGCNA.wgcna.WGCNA\n",
    "\n",
    "findModules(**kwargs)[source]\n",
    "\n",
    "    Clustering genes through original WGCNA pipeline: 1.pick soft threshold 2.calculating adjacency matrix 3.calculating TOM similarity matrix 4.cluster genes base of dissTOM 5.merge similar cluster dynamically\n",
    "\n",
    "\n",
    "getGeneModule(moduleName)[source]\n",
    "\n",
    "    get list of genes corresponding to modules\n",
    "\n",
    "    Parameters\n",
    "\n",
    "        moduleName (list) – name of modules\n",
    "    Returns\n",
    "\n",
    "        A dictionary contains list of genes for requested module(s)\n",
    "    Return type\n",
    "\n",
    "        dict\n",
    "\n",
    "getModuleName()[source]\n",
    "\n",
    "    get names of modules\n",
    "\n",
    "    Returns\n",
    "\n",
    "        name of modules\n",
    "    Return type\n",
    "\n",
    "        ndarray\n",
    "\n",
    "getModulesGene(geneIds)[source]\n",
    "\n",
    "    get list of modules corresponding to gene(s)\n",
    "\n",
    "    Parameters\n",
    "\n",
    "        geneIds (list or str) – gene id\n",
    "    Returns\n",
    "\n",
    "        A list contains name of module(s) for requested gene(s)\n",
    "    Return type\n",
    "\n",
    "        list or str\n",
    "\n"
   ]
  },
  {
   "cell_type": "code",
   "execution_count": 1,
   "id": "8a84a4a2-d2f1-4135-83e9-a342a4ec8f4b",
   "metadata": {},
   "outputs": [],
   "source": [
    "import PyWGCNA\n"
   ]
  },
  {
   "cell_type": "code",
   "execution_count": null,
   "id": "9d89d0bb-a3e7-4545-901f-c7dc27c6c2a0",
   "metadata": {},
   "outputs": [],
   "source": [
    "xele = PyWGCNA.readWGCNA(\"/work/yhesse/jobs/xele_ml/wgcna/wgcnaxele.p\")"
   ]
  }
 ],
 "metadata": {
  "kernelspec": {
   "display_name": "Py3-10-WGCNA",
   "language": "python",
   "name": "py3-10"
  },
  "language_info": {
   "codemirror_mode": {
    "name": "ipython",
    "version": 3
   },
   "file_extension": ".py",
   "mimetype": "text/x-python",
   "name": "python",
   "nbconvert_exporter": "python",
   "pygments_lexer": "ipython3",
   "version": "3.10.13"
  }
 },
 "nbformat": 4,
 "nbformat_minor": 5
}
