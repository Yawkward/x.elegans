{
 "cells": [
  {
   "cell_type": "markdown",
   "metadata": {},
   "source": [
    "# Functional enrichment analysis using PyWGCNA\n",
    "\n",
    "After finding coexpression modules, you can investigate each module seperatly using functional enrichment analysis. PyWGCNA supports this directly from the GO, KEGG, and REACTOME databases using the `functional_enrichment_analysis()` function.\n",
    "\n",
    "In this notebook, we will show you how you can do that!\n",
    "\n",
    "First read in the PyWGCNA object. \n",
    "Make sure that the gene name, which is parsed by the above databases, is present by checking if `gene_name` is one of the columns of `datExpr.var`."
   ]
  },
  {
   "cell_type": "code",
   "execution_count": 1,
   "metadata": {},
   "outputs": [
    {
     "ename": "ModuleNotFoundError",
     "evalue": "No module named 'PyWGCNA'",
     "output_type": "error",
     "traceback": [
      "\u001b[0;31m---------------------------------------------------------------------------\u001b[0m",
      "\u001b[0;31mModuleNotFoundError\u001b[0m                       Traceback (most recent call last)",
      "\u001b[0;32m<ipython-input-1-02ec547aaade>\u001b[0m in \u001b[0;36m<module>\u001b[0;34m\u001b[0m\n\u001b[0;32m----> 1\u001b[0;31m \u001b[0;32mimport\u001b[0m \u001b[0mPyWGCNA\u001b[0m\u001b[0;34m\u001b[0m\u001b[0;34m\u001b[0m\u001b[0m\n\u001b[0m\u001b[1;32m      2\u001b[0m \u001b[0mxele\u001b[0m \u001b[0;34m=\u001b[0m \u001b[0mPyWGCNA\u001b[0m\u001b[0;34m.\u001b[0m\u001b[0mreadWGCNA\u001b[0m\u001b[0;34m(\u001b[0m\u001b[0;34m\"/work/yhesse/jobs/xele_ml/wgcna/wgcnaxele.p\"\u001b[0m\u001b[0;34m)\u001b[0m\u001b[0;34m\u001b[0m\u001b[0;34m\u001b[0m\u001b[0m\n\u001b[1;32m      3\u001b[0m \u001b[0mxele\u001b[0m\u001b[0;34m.\u001b[0m\u001b[0mdatExpr\u001b[0m\u001b[0;34m.\u001b[0m\u001b[0mvar\u001b[0m\u001b[0;34m.\u001b[0m\u001b[0mhead\u001b[0m\u001b[0;34m(\u001b[0m\u001b[0;36m5\u001b[0m\u001b[0;34m)\u001b[0m\u001b[0;34m\u001b[0m\u001b[0;34m\u001b[0m\u001b[0m\n",
      "\u001b[0;31mModuleNotFoundError\u001b[0m: No module named 'PyWGCNA'"
     ]
    }
   ],
   "source": [
    "import PyWGCNA\n",
    "xele = PyWGCNA.readWGCNA(\"/work/yhesse/jobs/xele_ml/wgcna/wgcnaxele.p\")\n",
    "xele.datExpr.var.head(5)"
   ]
  },
  {
   "cell_type": "markdown",
   "metadata": {},
   "source": [
    "## Gene ontology (GO) analysis\n",
    "\n",
    "Say we want to investigate darkgray module.\n",
    "After defining which gene set libraries we want to use, (pick from [here](https://maayanlab.cloud/Enrichr/#libraries)), we make the following call: "
   ]
  },
  {
   "cell_type": "code",
   "execution_count": 5,
   "metadata": {},
   "outputs": [],
   "source": [
    "pyWGCNA_5xFAD.figureType = \"png\"\n",
    "gene_set_library = [\"GO_Biological_Process_2021\", \"GO_Cellular_Component_2021\", \"GO_Molecular_Function_2021\"]\n",
    "pyWGCNA_5xFAD.functional_enrichment_analysis(type=\"GO\",\n",
    "                                             moduleName=\"coral\",\n",
    "                                             sets=gene_set_library,\n",
    "                                             p_value=0.05,\n",
    "                                             file_name=\"GO_coral_2021\")"
   ]
  },
  {
   "cell_type": "markdown",
   "metadata": {},
   "source": [
    "![GO](figures/GO/GO_coral_2021.png)"
   ]
  },
  {
   "cell_type": "code",
   "execution_count": 6,
   "metadata": {},
   "outputs": [
    {
     "name": "stdout",
     "output_type": "stream",
     "text": [
      "\u001b[93mKEGG directory does not exist!\n",
      "Creating KEGG directory!\u001b[0m\n"
     ]
    }
   ],
   "source": [
    "pyWGCNA_5xFAD.figureType = \"png\"\n",
    "gene_set_library = [\"KEGG_2019_Mouse\"]\n",
    "pyWGCNA_5xFAD.functional_enrichment_analysis(type=\"KEGG\",\n",
    "                                             moduleName=\"coral\",\n",
    "                                             sets=gene_set_library,\n",
    "                                             p_value=0.05)"
   ]
  },
  {
   "cell_type": "markdown",
   "metadata": {},
   "source": [
    "![GO](figures/KEGG/coral.png)"
   ]
  },
  {
   "cell_type": "code",
   "execution_count": 7,
   "metadata": {},
   "outputs": [
    {
     "name": "stdout",
     "output_type": "stream",
     "text": [
      "\u001b[93mREACTOME directory does not exist!\n",
      "Creating REACTOME directory!\u001b[0m\n",
      "827 out of 1335 genes (identifiers) in the sample were found in Reactome.\n",
      "7748 pathways were hit by at least one of them, which 0 of them have p-value less than 0.05.\n",
      "Report was saved figures/REACTOME/coral.pdf!\n",
      "For more information please visit https://reactome.org/PathwayBrowser/#/DTAB=AN&ANALYSIS=MjAyMzAzMjIwODA5MTVfMTA3NzE%3D\n"
     ]
    }
   ],
   "source": [
    "pyWGCNA_5xFAD.figureType = \"pdf\"\n",
    "pyWGCNA_5xFAD.functional_enrichment_analysis(type=\"REACTOME\",\n",
    "                                             moduleName=\"coral\",\n",
    "                                             p_value=0.05)"
   ]
  }
 ],
 "metadata": {
  "kernelspec": {
   "display_name": "Py3-10-WGCNA",
   "language": "python",
   "name": "py3-10"
  },
  "language_info": {
   "codemirror_mode": {
    "name": "ipython",
    "version": 3
   },
   "file_extension": ".py",
   "mimetype": "text/x-python",
   "name": "python",
   "nbconvert_exporter": "python",
   "pygments_lexer": "ipython3",
   "version": "3.10.13"
  }
 },
 "nbformat": 4,
 "nbformat_minor": 4
}
