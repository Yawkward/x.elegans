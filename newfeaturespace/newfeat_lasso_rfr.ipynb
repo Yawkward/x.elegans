{
 "cells": [
  {
   "cell_type": "code",
   "execution_count": 1,
   "metadata": {},
   "outputs": [],
   "source": [
    "from sklearn.model_selection import cross_val_score, LeaveOneOut\n",
    "from sklearn.metrics import mean_squared_error \n",
    "from sklearn.preprocessing import StandardScaler as zscore # zscore\n",
    "from sklearn.pipeline import Pipeline\n",
    "from sklearn.linear_model import Lasso #LRlasso\n",
    "from joblib import dump, load #to save models in files\n",
    "from sklearn.model_selection import KFold\n",
    "import pandas as pd\n",
    "import numpy as np\n",
    "import math as m\n",
    "import matplotlib.pyplot as plt\n",
    "import seaborn as sns\n",
    "import scipy.stats as stats\n",
    "import re\n",
    "import json\n",
    "from datetime import datetime\n",
    "import os"
   ]
  },
  {
   "cell_type": "code",
   "execution_count": 36,
   "metadata": {},
   "outputs": [],
   "source": [
    "with open(\"/home/t44p/PW_rawdata/results/newfeat_rfr/lcms/lcms_dict_nXcv.json\", 'r') as json_file:\n",
    "    lcms_prefix = json.load(json_file)\n",
    "with open(\"/home/t44p/PW_rawdata/results/newfeat_rfr/gcms/gcms_dict_nXcv.json\", 'r') as json_file:\n",
    "    gcms_prefix = json.load(json_file)"
   ]
  },
  {
   "cell_type": "code",
   "execution_count": 39,
   "metadata": {},
   "outputs": [],
   "source": [
    "gc = list(gcms_prefix.keys())\n",
    "lc = list(lcms_prefix.keys())\n"
   ]
  },
  {
   "cell_type": "code",
   "execution_count": 46,
   "metadata": {},
   "outputs": [
    {
     "name": "stdout",
     "output_type": "stream",
     "text": [
      "['alpha_L_Fucose_1_Phosphate', 'Trehalose', 'Trehalose_phenolic_acid_', 'Maltotriose_', '_366_9939681_1_170199352', '_R_2_Phenylglycin', 'Oxidized_glutathione_', '_312_0943959_2_614228811', 'Guanosine_', 'gamma_Glutamylvaline_', '_512_1445532_3_132648409', 'Catechol_', '_303_0720727_3_335904942', 'Quinic_acid_derivative_3_56', '_374_1568694_3_674168475', 'Phaseoloidin', '_496_1502126_3_792994891', 'Vanilloloside', 'CGA_hexose_', 'Phenolic_glycoside_', 'gamma_Glutamylisoleucine_', 'L_gamma_glutamyl_L_isoleucine', '_658_1575839_4_528042834', 'Phenylalanylglutamic_acid_', '_5_Chlorogenic_acid', '_523_1663837_5_238225973', '_487_2029578_5_338775921', 'Quinic_acid_161_05_', 'Quinic_acid_derivative_with_he', 'Chlorogenic_acid_', 'Coumaroyl_quinic_acid_', '_351_1294837_5_809380415', 'Quercetin_glucose_glucose_rham', '_427_1824019_5_95992104', 'Quercetin_glc_glc_rha', '_567_2828405_6_133036019', 'Quercetin_3_7_di_glucoside_', '_441_1978503_6_218123415', '_4_O_p_Coumaroylquinic_acid_', 'Quercetin_7_4_O_diglucoside_', '_380_1288743_6_36896135', 'Quercetin_glucose_xylose', '_475_1821542_6_560220101', '_Rutin', '_641_171822_6_885700966', 'Quercetin_glucose', 'Quercetin_3_glucoside_3', 'Kaempferol_3_O_rutinoside_', '_531_2448764_7_209307815', '_671_2775803_7_254060113', 'Kaempferol_rhamnose_glucose', 'Isorhamnetin_3_O_rutinoside', '_4_5_Di_O_caffeoylquinic_acid_', '_1_3_Dicaffeoylquinic_acid_', '_429_1765684_7_873841266', 'Saponin_8_02', '_1141_528589_8_043846139', 'Triterpene_8_14', 'Diterpene_8_2', 'Triterpene_8_21', '_933_4699157_8_265868462', 'Saponin_8_42', 'Flavonoid_glycoside_', '_1183_537778_8_600427106', '_963_4798371_8_624190173', '_931_4518066_8_63280459', '_1183_538043_8_673358308', 'Kaempferol_7_3G_glucosylgentio', 'Saponin_8_8', 'Saponin_8_83', '_1241_580464_8_916526509', '_1165_527084_8_995631942', '_1253_57885907_8_99579782362', '_1313_601235_9_01121774', '_1021_486521_9_141280832', '_1283_593348_9_160768845', 'Saponin_9_18', '_821_3258533_9_228249892', '_857_418693067_9_24167206032', '_1283_593009_9_259004534', '_857_418157679_9_32212355859', '_1063_529871_9_415000766', 'Terpene_9_53', '_1021_48667462_9_66538870707', '_947_486080952_9_72692719903', 'Triterpene_9_79', 'Saponin_9_88', 'N_Decanoylglycine_', '_1209_556345_10_14653119', 'Saponin_10_182', 'Saponin_10_183', '_987_4809544_10_24318525', 'Terpene_10_26', 'Saponin_10_264', '_1191_542641_10_3213884', '_1151_551493_10_40677464', 'Triterpene_10_43', 'Saponin_10_47', 'Saponin_10_56', '_1063_497231_10_58247297', 'Saponin_10_67780171', 'Saponin_10_72', 'Triterpene_10_78', 'Histidine_L', 'Glutamic_acid_L', 'Ribulose_5_phosphate_L', 'Fructose_1_6_biosphasphate_L', 'alpha_D_Galacturonic_acid_1_ph', 'Dihydroxyacetone_phosphate_L', '_6_phosphogluconic_acid_L', '_D_Glycero_alpha_D_Manno_Hepto', 'Gluconic_acid_L', '_3_Deoxy_D_manno_2_octulosonic', 'Conduritol_B_Epoxide_L', 'Tartaric_acid_L', 'Gluconic_acid_lactone_L', 'Dehydro_Ascorbic_acid_L', 'Lactobionic_acid_L', 'Prolylglycine_L', 'Glucaric_acid_1_4_lactone_L', 'Urocanic_acid_L', 'Nicotinamide_adenine_dinucleot', 'Pyroglutamic_acid_3_L', 'Tyrosine_L', 'Inosine_L', 'Kynurenine_free_base_L', 'porphobilinogen_2_L', 'N_gamma_L_Glutamyl_L_methionin', 'Phenylalanyaspartatic_acid_L', 'Galloylglucose_L', 'Caffeoylglucarate_L', 'Gentesic_acid_glucoside_L', 'Pantothenic_acid_L', 'Zeatin_glucoside_L', 'Vanilloside_L', '_10_Formyltetrahydrofolate_L', 'Glycyl_L_phenylalanine_L', '_5_Deoxy_5_Methylthioadenosine', '_5_hydroxy_Ferulic_acid_Glucos', 'Aspartyphenylalanine_1_L', 'Dihydrophaseic_acid_glucoside_', 'Prolyphenylalanine_or_Leucymet', '_1_O_Feruloyl_glucose_L', 'chlorgenic_acid_L', 'Caffeic_acid_glucoside_L', 'Quercitin_3_7_diglucoside_6_rh', 'p_coumaroyl_glucoside_L', '_5_hydroxy_ferulic_acid_glucos', 'Ferulic_acid_4_O_glucuronide_L', 'hydroxyjasmonic_acid_glucoside', 'Caffeic_acid_1_L', 'p_coumaroyl_di_glucoside_L', 'Feruloylglucose_L', 'Sinapoylglucose_2_L', 'Hydroxy_jasmonic_acid_glucosid', 'Sinapoylglucose_L', 'Resveratrol_3_4_diglucoside_L', 'Feruloyl_di_glucoside_L', 'Caffeoylshikimic_acid_L', '_7_Epi_12_hydroxyjasmonic_acid', 'Kaempferol_3_O_glucoside_7_O_r', 'Quercitin_3_O_Glucoside_2_L', 'Kaempferol_glucose_xylose_L', 'Kaempferol_3_O_rhamnoside_7_O_', 'Kaempferol_7_O_Glucoside_1_L', 'Isorhamnetin_3_O_glucoside_L', 'naringenin_7_O_glucoside_1_L', '_3_5_dicaffeoul_quinic_acid_L', 'Azelaic_acid_L', 'naringenin_7_O_glucoside_3_L', 'Soyasaponin_A2_L', 'Azukisaponin_VI_1_L', 'Argininosuccinic_acid_L', 'Naringenin_chalcone_L']\n"
     ]
    }
   ],
   "source": [
    "print(lc)"
   ]
  },
  {
   "cell_type": "code",
   "execution_count": 19,
   "metadata": {},
   "outputs": [],
   "source": [
    "lasso_df = pd.read_csv(\"/home/t44p/PW_rawdata/results/newfeat_lasso/newfeat_lasso_performance.csv\", sep=\"\\t\")\n",
    "lasso_df = lasso_df[lasso_df['predictive_power'] == 'good'].copy()\n",
    "lasso_good = list(lasso_df['target'])\n"
   ]
  },
  {
   "cell_type": "code",
   "execution_count": 22,
   "metadata": {},
   "outputs": [],
   "source": [
    "rfr_df = pd.read_csv(\"/home/t44p/PW_rawdata/results/newfeat_rfr/newfeat_rfr_performance.csv\", sep=\"\\t\")\n",
    "rfr_df = rfr_df[rfr_df['predictive_power'] == 'good'].copy()\n",
    "rfr_good = list(rfr_df['target'])\n"
   ]
  },
  {
   "cell_type": "code",
   "execution_count": 31,
   "metadata": {},
   "outputs": [],
   "source": [
    "shared = set(rfr_good).intersection(set(lasso_good)) # shared by both, good predictors independent of approach\n",
    "uniq_lasso = set(lasso_good).difference(set(rfr_good)) # uniq to lasso\n",
    "uniq_rfr = set(rfr_good).difference(set(lasso_good)) # uniq to rfr"
   ]
  },
  {
   "cell_type": "code",
   "execution_count": 47,
   "metadata": {},
   "outputs": [
    {
     "name": "stdout",
     "output_type": "stream",
     "text": [
      "{'Cellobiose_361_204_rt14_40_nXcv', 'Caffeic_acid_glucoside_L_nXcv', 'Conduritol_B_Epoxide_L_nXcv', 'Isorhamnetin_3_O_rutinoside_nXcv', '_641_171822_6_885700966_nXcv', '_487_2029578_5_338775921_nXcv', '_6_phospho_gluconate_nXcv', 'Fructose_1_6_biosphasphate_L_nXcv', 'Quinic_acid_161_05__nXcv', 'Kaempferol_glucose_xylose_L_nXcv'}\n"
     ]
    }
   ],
   "source": [
    "print(uniq_rfr)"
   ]
  },
  {
   "cell_type": "markdown",
   "metadata": {},
   "source": [
    "# funktioniert ne\n"
   ]
  },
  {
   "cell_type": "code",
   "execution_count": 49,
   "metadata": {},
   "outputs": [
    {
     "name": "stdout",
     "output_type": "stream",
     "text": [
      "LC Table:\n",
      "                            shared                     uniq_lasso  \\\n",
      "0                   Saponin_10_183                           None   \n",
      "1                        Inosine_L                           None   \n",
      "2            Oxidized_glutathione_                           None   \n",
      "3     Phenylalanyaspartatic_acid_L                           None   \n",
      "4                Quercetin_glucose                           None   \n",
      "5          _1_O_Feruloyl_glucose_L                           None   \n",
      "6          Feruloyl_di_glucoside_L                           None   \n",
      "7                     Saponin_9_88                           None   \n",
      "8   Quercitin_3_7_diglucoside_6_rh                           None   \n",
      "9     Isorhamnetin_3_O_glucoside_L                           None   \n",
      "10      p_coumaroyl_di_glucoside_L                           None   \n",
      "11  Nicotinamide_adenine_dinucleot                           None   \n",
      "12         Caffeoylshikimic_acid_L                           None   \n",
      "13  Kaempferol_3_O_rhamnoside_7_O_                           None   \n",
      "14        _312_0943959_2_614228811                           None   \n",
      "15    _4_O_p_Coumaroylquinic_acid_                           None   \n",
      "16                          _Rutin                           None   \n",
      "17         Quercetin_3_glucoside_3                           None   \n",
      "18    naringenin_7_O_glucoside_1_L                           None   \n",
      "19        Trehalose_phenolic_acid_                           None   \n",
      "20      Phenylalanylglutamic_acid_                           None   \n",
      "21                    Maltotriose_                           None   \n",
      "22                     CGA_hexose_                           None   \n",
      "23        Quercetin_glucose_xylose                           None   \n",
      "24                       Trehalose                           None   \n",
      "25              Zeatin_glucoside_L                           None   \n",
      "26    Quercetin_7_4_O_diglucoside_                           None   \n",
      "27     Quercitin_3_O_Glucoside_2_L                           None   \n",
      "28    Kaempferol_7_O_Glucoside_1_L                           None   \n",
      "29                            None       _658_1575839_4_528042834   \n",
      "30                            None  L_gamma_glutamyl_L_isoleucine   \n",
      "31                            None             Lactobionic_acid_L   \n",
      "32                            None                           None   \n",
      "33                            None                           None   \n",
      "34                            None                           None   \n",
      "35                            None                           None   \n",
      "36                            None                           None   \n",
      "37                            None                           None   \n",
      "38                            None                           None   \n",
      "39                            None                           None   \n",
      "\n",
      "                        uniq_rfr  \n",
      "0                           None  \n",
      "1                           None  \n",
      "2                           None  \n",
      "3                           None  \n",
      "4                           None  \n",
      "5                           None  \n",
      "6                           None  \n",
      "7                           None  \n",
      "8                           None  \n",
      "9                           None  \n",
      "10                          None  \n",
      "11                          None  \n",
      "12                          None  \n",
      "13                          None  \n",
      "14                          None  \n",
      "15                          None  \n",
      "16                          None  \n",
      "17                          None  \n",
      "18                          None  \n",
      "19                          None  \n",
      "20                          None  \n",
      "21                          None  \n",
      "22                          None  \n",
      "23                          None  \n",
      "24                          None  \n",
      "25                          None  \n",
      "26                          None  \n",
      "27                          None  \n",
      "28                          None  \n",
      "29                          None  \n",
      "30                          None  \n",
      "31                          None  \n",
      "32      Caffeic_acid_glucoside_L  \n",
      "33        Conduritol_B_Epoxide_L  \n",
      "34   Isorhamnetin_3_O_rutinoside  \n",
      "35       _641_171822_6_885700966  \n",
      "36      _487_2029578_5_338775921  \n",
      "37  Fructose_1_6_biosphasphate_L  \n",
      "38           Quinic_acid_161_05_  \n",
      "39   Kaempferol_glucose_xylose_L  \n",
      "\n",
      "GC Table:\n",
      "                            shared                      uniq_lasso  \\\n",
      "0   Cellobiose_361_204_or_maltose_                            None   \n",
      "1        raffinose_437_451_rt16_91                            None   \n",
      "2     threonic_acid_292_220_rt7_49                            None   \n",
      "3     aspartic_acid_232_218_rt7_48                            None   \n",
      "4   pyroglutamic_acid_156_258_rt8_                            None   \n",
      "5     glyceric_acid_292_189_rt5_63                            None   \n",
      "6       erythronic_acid_292_rt7_24                            None   \n",
      "7     glutamic_acid_246_363_rt8_31                            None   \n",
      "8           alanine_116_218_rt3_38                            None   \n",
      "9                             None  glucose_1_phosphate_217_rt9_16   \n",
      "10                            None                            None   \n",
      "11                            None                            None   \n",
      "\n",
      "                      uniq_rfr  \n",
      "0                         None  \n",
      "1                         None  \n",
      "2                         None  \n",
      "3                         None  \n",
      "4                         None  \n",
      "5                         None  \n",
      "6                         None  \n",
      "7                         None  \n",
      "8                         None  \n",
      "9                         None  \n",
      "10  Cellobiose_361_204_rt14_40  \n",
      "11        _6_phospho_gluconate  \n"
     ]
    }
   ],
   "source": [
    "import pandas as pd\n",
    "\n",
    "# Function to remove '_nXcv' suffix and categorize entries\n",
    "def process_entries(entries, prefixes):\n",
    "    processed = []\n",
    "    for entry in entries:\n",
    "        # Remove the suffix\n",
    "        entry_processed = entry.split('_nXcv')[0]\n",
    "        # Check if the entry belongs to the given prefixes\n",
    "        if any(entry_processed.startswith(prefix) for prefix in prefixes):\n",
    "            processed.append(entry_processed)\n",
    "    return processed\n",
    "\n",
    "# Process entries for each category\n",
    "shared_processed = process_entries(shared, gc + lc)\n",
    "uniq_lasso_processed = process_entries(uniq_lasso, gc + lc)\n",
    "uniq_rfr_processed = process_entries(uniq_rfr, gc + lc)\n",
    "\n",
    "# Create empty tables for lc and gc\n",
    "lc_table = pd.DataFrame(columns=['shared', 'uniq_lasso', 'uniq_rfr'])\n",
    "gc_table = pd.DataFrame(columns=['shared', 'uniq_lasso', 'uniq_rfr'])\n",
    "\n",
    "# Function to add a row to the table\n",
    "def add_row(table, entry, category):\n",
    "    row = {'shared': None, 'uniq_lasso': None, 'uniq_rfr': None}\n",
    "    row[category] = entry\n",
    "    return pd.concat([table, pd.DataFrame([row])], ignore_index=True)\n",
    "\n",
    "# Populate the tables\n",
    "for entry in shared_processed + uniq_lasso_processed + uniq_rfr_processed:\n",
    "    if any(entry.startswith(prefix) for prefix in lc):\n",
    "        category = 'shared' if entry in shared_processed else 'uniq_lasso' if entry in uniq_lasso_processed else 'uniq_rfr'\n",
    "        lc_table = add_row(lc_table, entry, category)\n",
    "    elif any(entry.startswith(prefix) for prefix in gc):\n",
    "        category = 'shared' if entry in shared_processed else 'uniq_lasso' if entry in uniq_lasso_processed else 'uniq_rfr'\n",
    "        gc_table = add_row(gc_table, entry, category)\n",
    "\n",
    "# Printing the tables\n",
    "print(\"LC Table:\")\n",
    "print(lc_table)\n",
    "print(\"\\nGC Table:\")\n",
    "print(gc_table)\n"
   ]
  }
 ],
 "metadata": {
  "kernelspec": {
   "display_name": "py3-10",
   "language": "python",
   "name": "python3"
  },
  "language_info": {
   "codemirror_mode": {
    "name": "ipython",
    "version": 3
   },
   "file_extension": ".py",
   "mimetype": "text/x-python",
   "name": "python",
   "nbconvert_exporter": "python",
   "pygments_lexer": "ipython3",
   "version": "3.10.13"
  }
 },
 "nbformat": 4,
 "nbformat_minor": 2
}
